{
  "nbformat": 4,
  "nbformat_minor": 0,
  "metadata": {
    "colab": {
      "name": "keyword.ipynb",
      "provenance": [],
      "collapsed_sections": []
    },
    "kernelspec": {
      "name": "python3",
      "display_name": "Python 3"
    },
    "language_info": {
      "name": "python"
    }
  },
  "cells": [
    {
      "cell_type": "markdown",
      "source": [
        "이 파일은 원본 문제 데이터의 키워드 분석을 위한 파일입니다."
      ],
      "metadata": {
        "id": "q_EdOHfOWdOz"
      }
    },
    {
      "cell_type": "markdown",
      "source": [
        "# Import"
      ],
      "metadata": {
        "id": "MusRygYqZrgv"
      }
    },
    {
      "cell_type": "code",
      "execution_count": 72,
      "metadata": {
        "id": "FYhR55lJWQEH"
      },
      "outputs": [],
      "source": [
        "import pandas as pd\n",
        "from sklearn.feature_extraction.text import TfidfVectorizer"
      ]
    },
    {
      "cell_type": "markdown",
      "source": [
        "# Load the dataset"
      ],
      "metadata": {
        "id": "RKj6jmjHZ4CJ"
      }
    },
    {
      "cell_type": "code",
      "source": [
        "dataset = pd.read_csv('problems.csv')\n",
        "dataset"
      ],
      "metadata": {
        "colab": {
          "base_uri": "https://localhost:8080/",
          "height": 363
        },
        "id": "XMJHNPfGZ8jH",
        "outputId": "2595d6d3-0139-49b0-8273-8f36be2c4acf"
      },
      "execution_count": 73,
      "outputs": [
        {
          "output_type": "execute_result",
          "data": {
            "text/plain": [
              "                                             Problem  Type1  Type2 Type3  \\\n",
              "0  Write a Python program to print the following ...  print    NaN   NaN   \n",
              "1  Write a Python program to get the Python versi...  print    NaN   NaN   \n",
              "2  Write a Python program to display the current ...  print    NaN   NaN   \n",
              "3  Write a Python program which accepts the radiu...  print  input   NaN   \n",
              "4  Write a Python program which accepts the user'...  print  input   NaN   \n",
              "5  Write a Python program which accepts a sequenc...  print    NaN  list   \n",
              "6  Write a Python program to accept a filename fr...  print    NaN  list   \n",
              "7  Write a Python program to display the first an...  print    NaN  list   \n",
              "8  Write a Python program to display the examinat...  print    NaN   NaN   \n",
              "9  Write a Python program that accepts an integer...  print  input   NaN   \n",
              "\n",
              "   Type4  \n",
              "0    NaN  \n",
              "1    NaN  \n",
              "2    NaN  \n",
              "3    NaN  \n",
              "4    NaN  \n",
              "5  tuple  \n",
              "6    NaN  \n",
              "7    NaN  \n",
              "8    NaN  \n",
              "9    NaN  "
            ],
            "text/html": [
              "\n",
              "  <div id=\"df-8c231651-7655-4480-8ab9-c5507ec42136\">\n",
              "    <div class=\"colab-df-container\">\n",
              "      <div>\n",
              "<style scoped>\n",
              "    .dataframe tbody tr th:only-of-type {\n",
              "        vertical-align: middle;\n",
              "    }\n",
              "\n",
              "    .dataframe tbody tr th {\n",
              "        vertical-align: top;\n",
              "    }\n",
              "\n",
              "    .dataframe thead th {\n",
              "        text-align: right;\n",
              "    }\n",
              "</style>\n",
              "<table border=\"1\" class=\"dataframe\">\n",
              "  <thead>\n",
              "    <tr style=\"text-align: right;\">\n",
              "      <th></th>\n",
              "      <th>Problem</th>\n",
              "      <th>Type1</th>\n",
              "      <th>Type2</th>\n",
              "      <th>Type3</th>\n",
              "      <th>Type4</th>\n",
              "    </tr>\n",
              "  </thead>\n",
              "  <tbody>\n",
              "    <tr>\n",
              "      <th>0</th>\n",
              "      <td>Write a Python program to print the following ...</td>\n",
              "      <td>print</td>\n",
              "      <td>NaN</td>\n",
              "      <td>NaN</td>\n",
              "      <td>NaN</td>\n",
              "    </tr>\n",
              "    <tr>\n",
              "      <th>1</th>\n",
              "      <td>Write a Python program to get the Python versi...</td>\n",
              "      <td>print</td>\n",
              "      <td>NaN</td>\n",
              "      <td>NaN</td>\n",
              "      <td>NaN</td>\n",
              "    </tr>\n",
              "    <tr>\n",
              "      <th>2</th>\n",
              "      <td>Write a Python program to display the current ...</td>\n",
              "      <td>print</td>\n",
              "      <td>NaN</td>\n",
              "      <td>NaN</td>\n",
              "      <td>NaN</td>\n",
              "    </tr>\n",
              "    <tr>\n",
              "      <th>3</th>\n",
              "      <td>Write a Python program which accepts the radiu...</td>\n",
              "      <td>print</td>\n",
              "      <td>input</td>\n",
              "      <td>NaN</td>\n",
              "      <td>NaN</td>\n",
              "    </tr>\n",
              "    <tr>\n",
              "      <th>4</th>\n",
              "      <td>Write a Python program which accepts the user'...</td>\n",
              "      <td>print</td>\n",
              "      <td>input</td>\n",
              "      <td>NaN</td>\n",
              "      <td>NaN</td>\n",
              "    </tr>\n",
              "    <tr>\n",
              "      <th>5</th>\n",
              "      <td>Write a Python program which accepts a sequenc...</td>\n",
              "      <td>print</td>\n",
              "      <td>NaN</td>\n",
              "      <td>list</td>\n",
              "      <td>tuple</td>\n",
              "    </tr>\n",
              "    <tr>\n",
              "      <th>6</th>\n",
              "      <td>Write a Python program to accept a filename fr...</td>\n",
              "      <td>print</td>\n",
              "      <td>NaN</td>\n",
              "      <td>list</td>\n",
              "      <td>NaN</td>\n",
              "    </tr>\n",
              "    <tr>\n",
              "      <th>7</th>\n",
              "      <td>Write a Python program to display the first an...</td>\n",
              "      <td>print</td>\n",
              "      <td>NaN</td>\n",
              "      <td>list</td>\n",
              "      <td>NaN</td>\n",
              "    </tr>\n",
              "    <tr>\n",
              "      <th>8</th>\n",
              "      <td>Write a Python program to display the examinat...</td>\n",
              "      <td>print</td>\n",
              "      <td>NaN</td>\n",
              "      <td>NaN</td>\n",
              "      <td>NaN</td>\n",
              "    </tr>\n",
              "    <tr>\n",
              "      <th>9</th>\n",
              "      <td>Write a Python program that accepts an integer...</td>\n",
              "      <td>print</td>\n",
              "      <td>input</td>\n",
              "      <td>NaN</td>\n",
              "      <td>NaN</td>\n",
              "    </tr>\n",
              "  </tbody>\n",
              "</table>\n",
              "</div>\n",
              "      <button class=\"colab-df-convert\" onclick=\"convertToInteractive('df-8c231651-7655-4480-8ab9-c5507ec42136')\"\n",
              "              title=\"Convert this dataframe to an interactive table.\"\n",
              "              style=\"display:none;\">\n",
              "        \n",
              "  <svg xmlns=\"http://www.w3.org/2000/svg\" height=\"24px\"viewBox=\"0 0 24 24\"\n",
              "       width=\"24px\">\n",
              "    <path d=\"M0 0h24v24H0V0z\" fill=\"none\"/>\n",
              "    <path d=\"M18.56 5.44l.94 2.06.94-2.06 2.06-.94-2.06-.94-.94-2.06-.94 2.06-2.06.94zm-11 1L8.5 8.5l.94-2.06 2.06-.94-2.06-.94L8.5 2.5l-.94 2.06-2.06.94zm10 10l.94 2.06.94-2.06 2.06-.94-2.06-.94-.94-2.06-.94 2.06-2.06.94z\"/><path d=\"M17.41 7.96l-1.37-1.37c-.4-.4-.92-.59-1.43-.59-.52 0-1.04.2-1.43.59L10.3 9.45l-7.72 7.72c-.78.78-.78 2.05 0 2.83L4 21.41c.39.39.9.59 1.41.59.51 0 1.02-.2 1.41-.59l7.78-7.78 2.81-2.81c.8-.78.8-2.07 0-2.86zM5.41 20L4 18.59l7.72-7.72 1.47 1.35L5.41 20z\"/>\n",
              "  </svg>\n",
              "      </button>\n",
              "      \n",
              "  <style>\n",
              "    .colab-df-container {\n",
              "      display:flex;\n",
              "      flex-wrap:wrap;\n",
              "      gap: 12px;\n",
              "    }\n",
              "\n",
              "    .colab-df-convert {\n",
              "      background-color: #E8F0FE;\n",
              "      border: none;\n",
              "      border-radius: 50%;\n",
              "      cursor: pointer;\n",
              "      display: none;\n",
              "      fill: #1967D2;\n",
              "      height: 32px;\n",
              "      padding: 0 0 0 0;\n",
              "      width: 32px;\n",
              "    }\n",
              "\n",
              "    .colab-df-convert:hover {\n",
              "      background-color: #E2EBFA;\n",
              "      box-shadow: 0px 1px 2px rgba(60, 64, 67, 0.3), 0px 1px 3px 1px rgba(60, 64, 67, 0.15);\n",
              "      fill: #174EA6;\n",
              "    }\n",
              "\n",
              "    [theme=dark] .colab-df-convert {\n",
              "      background-color: #3B4455;\n",
              "      fill: #D2E3FC;\n",
              "    }\n",
              "\n",
              "    [theme=dark] .colab-df-convert:hover {\n",
              "      background-color: #434B5C;\n",
              "      box-shadow: 0px 1px 3px 1px rgba(0, 0, 0, 0.15);\n",
              "      filter: drop-shadow(0px 1px 2px rgba(0, 0, 0, 0.3));\n",
              "      fill: #FFFFFF;\n",
              "    }\n",
              "  </style>\n",
              "\n",
              "      <script>\n",
              "        const buttonEl =\n",
              "          document.querySelector('#df-8c231651-7655-4480-8ab9-c5507ec42136 button.colab-df-convert');\n",
              "        buttonEl.style.display =\n",
              "          google.colab.kernel.accessAllowed ? 'block' : 'none';\n",
              "\n",
              "        async function convertToInteractive(key) {\n",
              "          const element = document.querySelector('#df-8c231651-7655-4480-8ab9-c5507ec42136');\n",
              "          const dataTable =\n",
              "            await google.colab.kernel.invokeFunction('convertToInteractive',\n",
              "                                                     [key], {});\n",
              "          if (!dataTable) return;\n",
              "\n",
              "          const docLinkHtml = 'Like what you see? Visit the ' +\n",
              "            '<a target=\"_blank\" href=https://colab.research.google.com/notebooks/data_table.ipynb>data table notebook</a>'\n",
              "            + ' to learn more about interactive tables.';\n",
              "          element.innerHTML = '';\n",
              "          dataTable['output_type'] = 'display_data';\n",
              "          await google.colab.output.renderOutput(dataTable, element);\n",
              "          const docLink = document.createElement('div');\n",
              "          docLink.innerHTML = docLinkHtml;\n",
              "          element.appendChild(docLink);\n",
              "        }\n",
              "      </script>\n",
              "    </div>\n",
              "  </div>\n",
              "  "
            ]
          },
          "metadata": {},
          "execution_count": 73
        }
      ]
    },
    {
      "cell_type": "markdown",
      "source": [
        "# TF-IDF"
      ],
      "metadata": {
        "id": "bLgZJukabeeb"
      }
    },
    {
      "cell_type": "code",
      "source": [
        "# TF-IDF Function\n",
        "# 문제 데이터, 문제 분야 입력 -> 상위 num개의 키워드 반환\n",
        "#\n",
        "# Example\n",
        "# result = tf_idf(dataset, 'Type', num=10)\n",
        "# result -> 해당 분야 문제의 상위 num개의 키워드\n",
        "#\n",
        "def tf_idf (dataset, type, num=10):\n",
        "  # 해당 Type의 문제 데이터셋 추출\n",
        "  problem_data = dataset[['Problem', type]].dropna()['Problem']\n",
        "\n",
        "  # 모델 생성\n",
        "  tfidv = TfidfVectorizer().fit(problem_data)\n",
        "\n",
        "  # 키워드 목록 추출\n",
        "  word_id_list = sorted(tfidv.vocabulary_.items(),\n",
        "                      key=lambda x: x[1], reverse=False)\n",
        "  word_list = [x[0] for x in word_id_list]\n",
        "\n",
        "  # TF-IDF 결과 데이터\n",
        "  result = pd.DataFrame(tfidv.transform(problem_data).toarray(),\n",
        "                             columns = word_list)\n",
        "  \n",
        "  # 상위 NUM개의 키워드 반환\n",
        "  return result.sum().sort_values(ascending=False)[:num]"
      ],
      "metadata": {
        "id": "OmNdrGjnbhP3"
      },
      "execution_count": 89,
      "outputs": []
    },
    {
      "cell_type": "code",
      "source": [
        "# 테스트를 위해 print 문제 사용\n",
        "result = tf_idf(dataset, 'Type1')\n",
        "# 테스트 결과 출력\n",
        "result"
      ],
      "metadata": {
        "colab": {
          "base_uri": "https://localhost:8080/"
        },
        "id": "9mqq5vHrnANq",
        "outputId": "d17b8aac-2cf3-4cb8-e2a9-71d82262e384"
      },
      "execution_count": 93,
      "outputs": [
        {
          "output_type": "execute_result",
          "data": {
            "text/plain": [
              "the        2.017835\n",
              "python     1.546947\n",
              "and        1.434828\n",
              "program    1.399322\n",
              "write      1.399322\n",
              "to         1.386799\n",
              "display    1.039546\n",
              "from       0.904596\n",
              "of         0.872723\n",
              "user       0.813216\n",
              "dtype: float64"
            ]
          },
          "metadata": {},
          "execution_count": 93
        }
      ]
    },
    {
      "cell_type": "code",
      "source": [
        "# 추가 테스트\n",
        "result2 = tf_idf(dataset, 'Type2', num=5)\n",
        "result2"
      ],
      "metadata": {
        "colab": {
          "base_uri": "https://localhost:8080/"
        },
        "id": "sWeiE75mobwV",
        "outputId": "6cbc126c-a3c5-4526-e182-ba4f7873a13e"
      },
      "execution_count": 92,
      "outputs": [
        {
          "output_type": "execute_result",
          "data": {
            "text/plain": [
              "the        0.847806\n",
              "and        0.639342\n",
              "accepts    0.501265\n",
              "program    0.501265\n",
              "python     0.501265\n",
              "dtype: float64"
            ]
          },
          "metadata": {},
          "execution_count": 92
        }
      ]
    }
  ]
}