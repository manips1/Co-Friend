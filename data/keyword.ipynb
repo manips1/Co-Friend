{
 "cells": [
  {
   "cell_type": "markdown",
   "metadata": {
    "id": "q_EdOHfOWdOz"
   },
   "source": [
    "이 파일은 원본 문제 데이터의 키워드 분석을 위한 파일입니다."
   ]
  },
  {
   "cell_type": "markdown",
   "metadata": {
    "id": "MusRygYqZrgv"
   },
   "source": [
    "# Import"
   ]
  },
  {
   "cell_type": "code",
   "execution_count": 1,
   "metadata": {
    "id": "FYhR55lJWQEH"
   },
   "outputs": [],
   "source": [
    "import pandas as pd\n",
    "from sklearn.feature_extraction.text import TfidfVectorizer"
   ]
  },
  {
   "cell_type": "markdown",
   "metadata": {
    "id": "RKj6jmjHZ4CJ"
   },
   "source": [
    "# Load the dataset"
   ]
  },
  {
   "cell_type": "code",
   "execution_count": 2,
   "metadata": {
    "colab": {
     "base_uri": "https://localhost:8080/",
     "height": 363
    },
    "id": "XMJHNPfGZ8jH",
    "outputId": "2595d6d3-0139-49b0-8273-8f36be2c4acf"
   },
   "outputs": [
    {
     "data": {
      "text/html": [
       "<div>\n",
       "<style scoped>\n",
       "    .dataframe tbody tr th:only-of-type {\n",
       "        vertical-align: middle;\n",
       "    }\n",
       "\n",
       "    .dataframe tbody tr th {\n",
       "        vertical-align: top;\n",
       "    }\n",
       "\n",
       "    .dataframe thead th {\n",
       "        text-align: right;\n",
       "    }\n",
       "</style>\n",
       "<table border=\"1\" class=\"dataframe\">\n",
       "  <thead>\n",
       "    <tr style=\"text-align: right;\">\n",
       "      <th></th>\n",
       "      <th>Problem</th>\n",
       "      <th>Print</th>\n",
       "      <th>Input</th>\n",
       "      <th>List</th>\n",
       "      <th>Tuple</th>\n",
       "    </tr>\n",
       "  </thead>\n",
       "  <tbody>\n",
       "    <tr>\n",
       "      <th>0</th>\n",
       "      <td>Write a Python program to print the following ...</td>\n",
       "      <td>print</td>\n",
       "      <td>NaN</td>\n",
       "      <td>NaN</td>\n",
       "      <td>NaN</td>\n",
       "    </tr>\n",
       "    <tr>\n",
       "      <th>1</th>\n",
       "      <td>Write a Python program to get the Python versi...</td>\n",
       "      <td>print</td>\n",
       "      <td>NaN</td>\n",
       "      <td>NaN</td>\n",
       "      <td>NaN</td>\n",
       "    </tr>\n",
       "    <tr>\n",
       "      <th>2</th>\n",
       "      <td>Write a Python program to display the current ...</td>\n",
       "      <td>print</td>\n",
       "      <td>NaN</td>\n",
       "      <td>NaN</td>\n",
       "      <td>NaN</td>\n",
       "    </tr>\n",
       "    <tr>\n",
       "      <th>3</th>\n",
       "      <td>Write a Python program which accepts the radiu...</td>\n",
       "      <td>print</td>\n",
       "      <td>input</td>\n",
       "      <td>NaN</td>\n",
       "      <td>NaN</td>\n",
       "    </tr>\n",
       "    <tr>\n",
       "      <th>4</th>\n",
       "      <td>Write a Python program which accepts the user'...</td>\n",
       "      <td>print</td>\n",
       "      <td>input</td>\n",
       "      <td>NaN</td>\n",
       "      <td>NaN</td>\n",
       "    </tr>\n",
       "    <tr>\n",
       "      <th>5</th>\n",
       "      <td>Write a Python program which accepts a sequenc...</td>\n",
       "      <td>print</td>\n",
       "      <td>NaN</td>\n",
       "      <td>list</td>\n",
       "      <td>tuple</td>\n",
       "    </tr>\n",
       "    <tr>\n",
       "      <th>6</th>\n",
       "      <td>Write a Python program to accept a filename fr...</td>\n",
       "      <td>print</td>\n",
       "      <td>NaN</td>\n",
       "      <td>list</td>\n",
       "      <td>NaN</td>\n",
       "    </tr>\n",
       "    <tr>\n",
       "      <th>7</th>\n",
       "      <td>Write a Python program to display the first an...</td>\n",
       "      <td>print</td>\n",
       "      <td>NaN</td>\n",
       "      <td>list</td>\n",
       "      <td>NaN</td>\n",
       "    </tr>\n",
       "    <tr>\n",
       "      <th>8</th>\n",
       "      <td>Write a Python program to display the examinat...</td>\n",
       "      <td>print</td>\n",
       "      <td>NaN</td>\n",
       "      <td>NaN</td>\n",
       "      <td>NaN</td>\n",
       "    </tr>\n",
       "    <tr>\n",
       "      <th>9</th>\n",
       "      <td>Write a Python program that accepts an integer...</td>\n",
       "      <td>print</td>\n",
       "      <td>input</td>\n",
       "      <td>NaN</td>\n",
       "      <td>NaN</td>\n",
       "    </tr>\n",
       "  </tbody>\n",
       "</table>\n",
       "</div>"
      ],
      "text/plain": [
       "                                             Problem  Print  Input  List  \\\n",
       "0  Write a Python program to print the following ...  print    NaN   NaN   \n",
       "1  Write a Python program to get the Python versi...  print    NaN   NaN   \n",
       "2  Write a Python program to display the current ...  print    NaN   NaN   \n",
       "3  Write a Python program which accepts the radiu...  print  input   NaN   \n",
       "4  Write a Python program which accepts the user'...  print  input   NaN   \n",
       "5  Write a Python program which accepts a sequenc...  print    NaN  list   \n",
       "6  Write a Python program to accept a filename fr...  print    NaN  list   \n",
       "7  Write a Python program to display the first an...  print    NaN  list   \n",
       "8  Write a Python program to display the examinat...  print    NaN   NaN   \n",
       "9  Write a Python program that accepts an integer...  print  input   NaN   \n",
       "\n",
       "   Tuple  \n",
       "0    NaN  \n",
       "1    NaN  \n",
       "2    NaN  \n",
       "3    NaN  \n",
       "4    NaN  \n",
       "5  tuple  \n",
       "6    NaN  \n",
       "7    NaN  \n",
       "8    NaN  \n",
       "9    NaN  "
      ]
     },
     "execution_count": 2,
     "metadata": {},
     "output_type": "execute_result"
    }
   ],
   "source": [
    "dataset = pd.read_csv('problems.csv')\n",
    "dataset"
   ]
  },
  {
   "cell_type": "markdown",
   "metadata": {
    "id": "bLgZJukabeeb"
   },
   "source": [
    "# TF-IDF"
   ]
  },
  {
   "cell_type": "code",
   "execution_count": 3,
   "metadata": {
    "id": "OmNdrGjnbhP3"
   },
   "outputs": [],
   "source": [
    "# TF-IDF Function\n",
    "# 문제 데이터, 문제 분야 입력 -> 상위 num개의 키워드 반환\n",
    "#\n",
    "# Example\n",
    "# result = tf_idf(dataset, 'Type', num=10)\n",
    "# result -> 해당 분야 문제의 상위 num개의 키워드\n",
    "#\n",
    "def tf_idf (dataset, type, num=10):\n",
    "  # 해당 Type의 문제 데이터셋 추출\n",
    "  problem_data = dataset[['Problem', type]].dropna()['Problem']\n",
    "\n",
    "  # 모델 생성\n",
    "  tfidv = TfidfVectorizer().fit(problem_data)\n",
    "\n",
    "  # 키워드 목록 추출\n",
    "  word_id_list = sorted(tfidv.vocabulary_.items(),\n",
    "                      key=lambda x: x[1], reverse=False)\n",
    "  word_list = [x[0] for x in word_id_list]\n",
    "\n",
    "  # TF-IDF 결과 데이터\n",
    "  result = pd.DataFrame(tfidv.transform(problem_data).toarray(),\n",
    "                             columns = word_list)\n",
    "  \n",
    "  # 상위 NUM개의 키워드 반환\n",
    "  return result.sum().sort_values(ascending=False)[:num]"
   ]
  },
  {
   "cell_type": "code",
   "execution_count": 4,
   "metadata": {
    "colab": {
     "base_uri": "https://localhost:8080/"
    },
    "id": "9mqq5vHrnANq",
    "outputId": "d17b8aac-2cf3-4cb8-e2a9-71d82262e384"
   },
   "outputs": [
    {
     "data": {
      "text/plain": [
       "the        2.017835\n",
       "python     1.546947\n",
       "and        1.434828\n",
       "program    1.399322\n",
       "write      1.399322\n",
       "to         1.386799\n",
       "display    1.039546\n",
       "from       0.904596\n",
       "of         0.872723\n",
       "user       0.813216\n",
       "dtype: float64"
      ]
     },
     "execution_count": 4,
     "metadata": {},
     "output_type": "execute_result"
    }
   ],
   "source": [
    "# 테스트를 위해 print 문제 사용\n",
    "result = tf_idf(dataset, 'Print')\n",
    "# 테스트 결과 출력\n",
    "result"
   ]
  },
  {
   "cell_type": "code",
   "execution_count": 5,
   "metadata": {
    "colab": {
     "base_uri": "https://localhost:8080/"
    },
    "id": "sWeiE75mobwV",
    "outputId": "6cbc126c-a3c5-4526-e182-ba4f7873a13e"
   },
   "outputs": [
    {
     "data": {
      "text/plain": [
       "the        0.847806\n",
       "and        0.639342\n",
       "accepts    0.501265\n",
       "program    0.501265\n",
       "python     0.501265\n",
       "dtype: float64"
      ]
     },
     "execution_count": 5,
     "metadata": {},
     "output_type": "execute_result"
    }
   ],
   "source": [
    "# 추가 테스트\n",
    "result2 = tf_idf(dataset, 'Input', num=5)\n",
    "result2"
   ]
  },
  {
   "cell_type": "code",
   "execution_count": null,
   "metadata": {},
   "outputs": [],
   "source": []
  }
 ],
 "metadata": {
  "colab": {
   "collapsed_sections": [],
   "name": "keyword.ipynb",
   "provenance": []
  },
  "kernelspec": {
   "display_name": "Python 3 (ipykernel)",
   "language": "python",
   "name": "python3"
  },
  "language_info": {
   "codemirror_mode": {
    "name": "ipython",
    "version": 3
   },
   "file_extension": ".py",
   "mimetype": "text/x-python",
   "name": "python",
   "nbconvert_exporter": "python",
   "pygments_lexer": "ipython3",
   "version": "3.9.7"
  }
 },
 "nbformat": 4,
 "nbformat_minor": 1
}
